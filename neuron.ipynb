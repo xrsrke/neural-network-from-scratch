{
 "cells": [
  {
   "cell_type": "code",
   "execution_count": null,
   "id": "0b8cc579",
   "metadata": {},
   "outputs": [
    {
     "name": "stdout",
     "output_type": "stream",
     "text": [
      "\u001b[1m\u001b[94mnbdev_bump_version\u001b[0m              Increment version in settings.ini by one\n",
      "\u001b[1m\u001b[94mnbdev_changelog\u001b[0m                 Create a CHANGELOG.md file from closed and labeled GitHub issues\n",
      "\u001b[1m\u001b[94mnbdev_clean\u001b[0m                     Clean all notebooks in `fname` to avoid merge conflicts\n",
      "\u001b[1m\u001b[94mnbdev_conda\u001b[0m                     Create a `meta.yaml` file ready to be built into a package, and optionally build and upload it\n",
      "\u001b[1m\u001b[94mnbdev_create_config\u001b[0m             Create a config file.\n",
      "\u001b[1m\u001b[94mnbdev_deploy\u001b[0m                    Deploy docs to GitHub Pages\n",
      "\u001b[1m\u001b[94mnbdev_docs\u001b[0m                      Create Quarto docs and README.md\n",
      "\u001b[1m\u001b[94mnbdev_export\u001b[0m                    Export notebooks in `path` to Python modules\n",
      "\u001b[1m\u001b[94mnbdev_filter\u001b[0m                    A notebook filter for Quarto\n",
      "\u001b[1m\u001b[94mnbdev_fix\u001b[0m                       Create working notebook from conflicted notebook `nbname`\n",
      "\u001b[1m\u001b[94mnbdev_help\u001b[0m                      Show help for all console scripts\n",
      "\u001b[1m\u001b[94mnbdev_install\u001b[0m                   Install Quarto and the current library\n",
      "\u001b[1m\u001b[94mnbdev_install_hooks\u001b[0m             Install Jupyter and git hooks to automatically clean, trust, and fix merge conflicts in notebooks\n",
      "\u001b[1m\u001b[94mnbdev_install_quarto\u001b[0m            Install latest Quarto on macOS or Linux, prints instructions for Windows\n",
      "\u001b[1m\u001b[94mnbdev_merge\u001b[0m                     Git merge driver for notebooks\n",
      "\u001b[1m\u001b[94mnbdev_migrate\u001b[0m                   Convert all directives and callouts in `fname` from v1 to v2\n",
      "\u001b[1m\u001b[94mnbdev_new\u001b[0m                       Create a new project.\n",
      "\u001b[1m\u001b[94mnbdev_prepare\u001b[0m                   Export, test, and clean notebooks\n",
      "\u001b[1m\u001b[94mnbdev_preview\u001b[0m                   Preview docs locally\n",
      "\u001b[1m\u001b[94mnbdev_pypi\u001b[0m                      Create and upload Python package to PyPI\n",
      "\u001b[1m\u001b[94mnbdev_quarto\u001b[0m                    Create Quarto docs and README.md\n",
      "\u001b[1m\u001b[94mnbdev_readme\u001b[0m                    Render README.md from index.ipynb\n",
      "\u001b[1m\u001b[94mnbdev_release_both\u001b[0m              Release both conda and PyPI packages\n",
      "\u001b[1m\u001b[94mnbdev_release_gh\u001b[0m                Calls `nbdev_changelog`, lets you edit the result, then pushes to git and calls `nbdev_release_git`\n",
      "\u001b[1m\u001b[94mnbdev_release_git\u001b[0m               Tag and create a release in GitHub for the current version\n",
      "\u001b[1m\u001b[94mnbdev_sidebar\u001b[0m                   Create sidebar.yml\n",
      "\u001b[1m\u001b[94mnbdev_test\u001b[0m                      Test in parallel notebooks matching `fname`, passing along `flags`\n",
      "\u001b[1m\u001b[94mnbdev_trust\u001b[0m                     Trust notebooks matching `fname`\n",
      "\u001b[1m\u001b[94mnbdev_update\u001b[0m                    Propagate change in modules matching `fname` to notebooks that created them\n"
     ]
    }
   ],
   "source": [
    "!nbdev_help"
   ]
  },
  {
   "cell_type": "code",
   "execution_count": null,
   "id": "b4f40d8e",
   "metadata": {},
   "outputs": [],
   "source": []
  }
 ],
 "metadata": {
  "kernelspec": {
   "display_name": "Python 3 (ipykernel)",
   "language": "python",
   "name": "python3"
  }
 },
 "nbformat": 4,
 "nbformat_minor": 5
}
